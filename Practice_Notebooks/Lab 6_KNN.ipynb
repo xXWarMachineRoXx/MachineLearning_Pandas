{
  "nbformat": 4,
  "nbformat_minor": 0,
  "metadata": {
    "colab": {
      "name": "KNN.ipynb",
      "provenance": [],
      "collapsed_sections": []
    },
    "kernelspec": {
      "name": "python3",
      "display_name": "Python 3"
    }
  },
  "cells": [
    {
      "cell_type": "markdown",
      "metadata": {
        "id": "gnkGl0wDnElh"
      },
      "source": [
        "KNN classifier"
      ]
    },
    {
      "cell_type": "markdown",
      "metadata": {
        "id": "RrETfL3ZnTfp"
      },
      "source": [
        "Importing the Dataset\r\n",
        "To import the dataset and load it into our pandas dataframe, execute the following code:"
      ]
    },
    {
      "cell_type": "code",
      "metadata": {
        "id": "0_IzdHzEnUKW"
      },
      "source": [
        "url = \"https://archive.ics.uci.edu/ml/machine-learning-databases/iris/iris.data\"\r\n",
        "\r\n",
        "# Assign colum names to the dataset\r\n",
        "names = ['sepal-length', 'sepal-width', 'petal-length', 'petal-width', 'Class']\r\n",
        "\r\n",
        "# Read dataset to pandas dataframe\r\n",
        "dataset = pd.read_csv(url, names=names)"
      ],
      "execution_count": null,
      "outputs": []
    },
    {
      "cell_type": "markdown",
      "metadata": {
        "id": "1xxHzzWRnYY0"
      },
      "source": [
        "To see what the dataset actually looks like, execute the following command"
      ]
    },
    {
      "cell_type": "code",
      "metadata": {
        "id": "NaPgCSPMnclE"
      },
      "source": [
        "dataset.head()"
      ],
      "execution_count": null,
      "outputs": []
    },
    {
      "cell_type": "code",
      "metadata": {
        "id": "crkRpdwBnfPW"
      },
      "source": [
        "from sklearn.model_selection import train_test_split\r\n",
        "X_train, X_test, y_train, y_test = train_test_split(X, y, test_size=0.20)"
      ],
      "execution_count": null,
      "outputs": []
    },
    {
      "cell_type": "markdown",
      "metadata": {
        "id": "-qkKNAdgnsDb"
      },
      "source": [
        "Before making any actual predictions, it is always a good practice to scale the features so that all of them can be uniformly evaluated."
      ]
    },
    {
      "cell_type": "code",
      "metadata": {
        "id": "hKny7gwAnkFF"
      },
      "source": [
        "from sklearn.preprocessing import StandardScaler\r\n",
        "scaler = StandardScaler()\r\n",
        "scaler.fit(X_train)\r\n",
        "\r\n",
        "X_train = scaler.transform(X_train)\r\n",
        "X_test = scaler.transform(X_test)"
      ],
      "execution_count": null,
      "outputs": []
    },
    {
      "cell_type": "code",
      "metadata": {
        "id": "sgOJJdp8nwqY"
      },
      "source": [
        "from sklearn.neighbors import KNeighborsClassifier\r\n",
        "classifier = KNeighborsClassifier(n_neighbors=5)\r\n",
        "classifier.fit(X_train, y_train)"
      ],
      "execution_count": null,
      "outputs": []
    },
    {
      "cell_type": "code",
      "metadata": {
        "id": "y9DAcqg2n1ck"
      },
      "source": [
        "from sklearn.metrics import classification_report, confusion_matrix\r\n",
        "print(confusion_matrix(y_test, y_pred))\r\n",
        "print(classification_report(y_test, y_pred))"
      ],
      "execution_count": null,
      "outputs": []
    },
    {
      "cell_type": "markdown",
      "metadata": {
        "id": "HOaV1jBhn8DZ"
      },
      "source": [
        "Comparing Error Rate with the K Value\r\n",
        "In the training and prediction section we said that there is no way to know beforehand which value of K that yields the best results in the first go. We randomly chose 5 as the K value and it just happen to result in 100% accuracy.\r\n",
        "\r\n",
        "One way to help you find the best value of K is to plot the graph of K value and the corresponding error rate for the dataset.\r\n",
        "\r\n",
        "In this section, we will plot the mean error for the predicted values of test set for all the K values between 1 and 40."
      ]
    },
    {
      "cell_type": "code",
      "metadata": {
        "id": "BMyWqAI5oEJX"
      },
      "source": [
        "error = []\r\n",
        "\r\n",
        "# Calculating error for K values between 1 and 40\r\n",
        "for i in range(1, 40):\r\n",
        "    knn = KNeighborsClassifier(n_neighbors=i)\r\n",
        "    knn.fit(X_train, y_train)\r\n",
        "    pred_i = knn.predict(X_test)\r\n",
        "    error.append(np.mean(pred_i != y_test))"
      ],
      "execution_count": null,
      "outputs": []
    },
    {
      "cell_type": "code",
      "metadata": {
        "id": "aWYDZJyooK9V"
      },
      "source": [
        "plt.figure(figsize=(12, 6))\r\n",
        "plt.plot(range(1, 40), error, color='red', linestyle='dashed', marker='o',\r\n",
        "         markerfacecolor='blue', markersize=10)\r\n",
        "plt.title('Error Rate K Value')\r\n",
        "plt.xlabel('K Value')\r\n",
        "plt.ylabel('Mean Error')"
      ],
      "execution_count": null,
      "outputs": []
    }
  ]
}